{
  "nbformat": 4,
  "nbformat_minor": 0,
  "metadata": {
    "colab": {
      "name": "final.ipynb",
      "provenance": [],
      "collapsed_sections": [],
      "machine_shape": "hm"
    },
    "kernelspec": {
      "name": "python3",
      "display_name": "Python 3"
    }
  },
  "cells": [
    {
      "cell_type": "code",
      "metadata": {
        "id": "5HSg5lm2Z3kA",
        "colab_type": "code",
        "outputId": "7de0658c-2dce-47de-fe2e-ab068ac26563",
        "colab": {
          "base_uri": "https://localhost:8080/",
          "height": 224
        }
      },
      "source": [
        "import numpy as np\n",
        "import pandas as pd\n",
        "import matplotlib as mpl\n",
        "from matplotlib import pyplot as plt\n",
        "mpl.rcParams['axes.unicode_minus'] = False\n",
        "plt.style.use('ggplot')\n",
        "import seaborn as sns\n",
        "import missingno as maso\n",
        "%matplotlib inline\n",
        "\n",
        "import re\n",
        "from tqdm import tqdm\n",
        "from sklearn.metrics import roc_auc_score\n",
        "from sklearn.model_selection import KFold \n",
        "!pip install bayesian-optimization\n",
        "from bayes_opt import BayesianOptimization\n",
        "from functools import partial\n",
        "import lightgbm as lgb\n",
        "from sklearn.cluster import KMeans\n",
        "import warnings\n",
        "warnings.filterwarnings(\"ignore\")"
      ],
      "execution_count": 1,
      "outputs": [
        {
          "output_type": "stream",
          "text": [
            "/usr/local/lib/python3.6/dist-packages/statsmodels/tools/_testing.py:19: FutureWarning: pandas.util.testing is deprecated. Use the functions in the public API at pandas.testing instead.\n",
            "  import pandas.util.testing as tm\n"
          ],
          "name": "stderr"
        },
        {
          "output_type": "stream",
          "text": [
            "Collecting bayesian-optimization\n",
            "  Downloading https://files.pythonhosted.org/packages/b5/26/9842333adbb8f17bcb3d699400a8b1ccde0af0b6de8d07224e183728acdf/bayesian_optimization-1.1.0-py3-none-any.whl\n",
            "Requirement already satisfied: numpy>=1.9.0 in /usr/local/lib/python3.6/dist-packages (from bayesian-optimization) (1.18.2)\n",
            "Requirement already satisfied: scikit-learn>=0.18.0 in /usr/local/lib/python3.6/dist-packages (from bayesian-optimization) (0.22.2.post1)\n",
            "Requirement already satisfied: scipy>=0.14.0 in /usr/local/lib/python3.6/dist-packages (from bayesian-optimization) (1.4.1)\n",
            "Requirement already satisfied: joblib>=0.11 in /usr/local/lib/python3.6/dist-packages (from scikit-learn>=0.18.0->bayesian-optimization) (0.14.1)\n",
            "Installing collected packages: bayesian-optimization\n",
            "Successfully installed bayesian-optimization-1.1.0\n"
          ],
          "name": "stdout"
        }
      ]
    },
    {
      "cell_type": "code",
      "metadata": {
        "id": "eZPgD7DtZ_OC",
        "colab_type": "code",
        "colab": {}
      },
      "source": [
        "train_data = pd.read_csv('/content/drive/My Drive/data/dacon게임분석대회/train.csv')\n",
        "test_data = pd.read_csv('/content/drive/My Drive/data/dacon게임분석대회/test.csv')"
      ],
      "execution_count": 0,
      "outputs": []
    },
    {
      "cell_type": "code",
      "metadata": {
        "id": "cSBlZt6Ea4D0",
        "colab_type": "code",
        "colab": {}
      },
      "source": [
        "train_data[\"winner\"] = train_data[\"winner\"].astype(np.uint8)\n",
        "train_data[\"time\"] = train_data[\"time\"].astype(np.float32)\n",
        "train_data[\"player\"] = train_data[\"player\"].astype(np.uint8)\n",
        "train_data[\"species\"] = train_data[\"species\"].astype(np.object)\n",
        "train_data[\"event\"] = train_data[\"event\"].astype(np.object)\n",
        "train_data[\"event_contents\"] = train_data[\"event_contents\"].astype(np.object)"
      ],
      "execution_count": 0,
      "outputs": []
    },
    {
      "cell_type": "code",
      "metadata": {
        "id": "yNrkc3XlaL3A",
        "colab_type": "code",
        "colab": {}
      },
      "source": [
        "test_data[\"time\"] = test_data[\"time\"].astype(np.float32)\n",
        "test_data[\"player\"] = test_data[\"player\"].astype(np.uint8)\n",
        "test_data[\"species\"] = test_data[\"species\"].astype(np.object)\n",
        "test_data[\"event\"] = test_data[\"event\"].astype(np.object)\n",
        "test_data[\"event_contents\"] = test_data[\"event_contents\"].astype(np.object)"
      ],
      "execution_count": 0,
      "outputs": []
    },
    {
      "cell_type": "code",
      "metadata": {
        "id": "eKhMjxO4cn1J",
        "colab_type": "code",
        "colab": {}
      },
      "source": [
        "event_dict = {i:j for (i,j) in zip(train_data.event.unique(), range(train_data.event.nunique()))}\n",
        "train_data['event'] = train_data['event'].map(event_dict)\n",
        "test_data['event'] = test_data['event'].map(event_dict)\n",
        "\n",
        "species_dict = {i:j for (i,j) in zip(train_data.species.unique(), range(train_data.species.nunique()))}\n",
        "train_data['species'] = train_data['species'].map(species_dict)\n",
        "test_data['species'] = test_data['species'].map(species_dict)"
      ],
      "execution_count": 0,
      "outputs": []
    },
    {
      "cell_type": "code",
      "metadata": {
        "id": "wMVaWGgadR1n",
        "colab_type": "code",
        "colab": {}
      },
      "source": [
        "def map_time(df, seconds=0, interval=0):\n",
        "  max_game_id = df.iloc[len(df)-1].game_id\n",
        "  print(max_game_id)\n",
        "  index = 0 \n",
        "  df['stage'] = 0 # add new column of 'stage' to df\n",
        "  if seconds:\n",
        "    for game_id in range(0, max_game_id+1):\n",
        "      for row in df[df['game_id'] == game_id].iterrows():\n",
        "        df.at[index, 'stage'] = df.at[index, 'time'] // seconds\n",
        "        index += 1\n",
        "  elif interval:\n",
        "    for game_id in range(0, max_game_id+1):\n",
        "      interval_counter = 0 # interval counter to keep track of when to cut off\n",
        "      curr_interval = 0\n",
        "      temp_df = df[df['game_id'] == game_id]\n",
        "      num_items_per_interval = len(temp_df) // interval\n",
        "      for row in temp_df.iterrows():\n",
        "        df.at[index, 'stage'] = curr_interval\n",
        "        if interval_counter == num_items_per_interval:\n",
        "          curr_interval += 1\n",
        "          interval_counter = 0\n",
        "        interval_counter += 1\n",
        "        index += 1\n",
        "  return df"
      ],
      "execution_count": 0,
      "outputs": []
    },
    {
      "cell_type": "code",
      "metadata": {
        "id": "kgDTo-dKeFzO",
        "colab_type": "code",
        "colab": {}
      },
      "source": [
        "train_data = map_time(train_data, interval=7)\n",
        "test_data = map_time(test_data, interval=7)"
      ],
      "execution_count": 0,
      "outputs": []
    },
    {
      "cell_type": "code",
      "metadata": {
        "id": "5RCySeplhVIZ",
        "colab_type": "code",
        "colab": {}
      },
      "source": [
        "# 모델에 학습시킬 데이터 준비\n",
        "def data_preparation(df, answer=False):\n",
        "    game_ids = df['game_id'].unique()\n",
        "    events = ['0','1','2','3','4','5','6','7']\n",
        "    unique_event_0, unique_event_1, delta_event = {}, {}, {}\n",
        "    for event in events:\n",
        "        unique_event_0['P0_' + event] = 0\n",
        "        unique_event_1['P1_' + event] = 0\n",
        "        #delta_event['delta_' + event] = 0\n",
        "        \n",
        "    species = df.groupby(['game_id', 'player']).species.unique()\n",
        "    event_count = df.groupby(['game_id', 'player']).event.value_counts()\n",
        "    if answer:\n",
        "        winners = df.groupby(['game_id']).winner.max()\n",
        "    \n",
        "    x_data, y_data = [], []\n",
        "    for game_id in tqdm(game_ids):\n",
        "        count = 0\n",
        "        df_event_count = event_count[game_id].unstack(level=-1)\n",
        "        df = pd.DataFrame(species[game_id])\n",
        "        df = pd.concat([df, df_event_count], axis=1)   \n",
        "        df = df.fillna(0)\n",
        "        \n",
        "        df_P0_species = pd.DataFrame([df.loc[0]['species'][0]], columns=['P0_species'])        \n",
        "        df_P1_species = pd.DataFrame([df.loc[1]['species'][0]], columns=['P1_species'])\n",
        "        df = df.drop(['species'], axis=1)\n",
        "\n",
        "        df_P0_event = unique_event_0.copy()\n",
        "        for column in df.columns:\n",
        "            df_P0_event['P0_' + str(column)] = df.loc[0][column]\n",
        "        df_P0_event = pd.DataFrame(pd.Series(df_P0_event)).T\n",
        "\n",
        "        df_P1_event = unique_event_1.copy()\n",
        "        for column in df.columns:\n",
        "            df_P1_event['P1_' + str(column)] = df.loc[1][column]\n",
        "        df_P1_event = pd.DataFrame(pd.Series(df_P1_event)).T\n",
        "        \"\"\"\n",
        "        df_delta_event = delta_event.copy()\n",
        "        for column in df.columns:\n",
        "            df_delta_event['delta_' + str(column)] = df_P0_event['P0_' + str(column)][0] - df_P1_event['P1_' + str(column)][0]\n",
        "        df_delta_event = pd.DataFrame(pd.Series(df_delta_event)).T\n",
        "        \"\"\"\n",
        "        out = pd.concat([df_P0_species, df_P0_event, df_P1_species, df_P1_event], axis=1) #, df_delta_event\n",
        "        out.index = [game_id]\n",
        "        out.index.name = 'game_id'\n",
        "        \n",
        "        x_data.append(out)\n",
        "        if answer:\n",
        "            y_data.append(winners[game_id])  \n",
        "\n",
        "    x_data = pd.concat(x_data)\n",
        "    y_data = np.array(y_data)\n",
        "    \n",
        "    return x_data, y_data"
      ],
      "execution_count": 0,
      "outputs": []
    },
    {
      "cell_type": "code",
      "metadata": {
        "id": "ru-FGLR0hcWy",
        "colab_type": "code",
        "colab": {}
      },
      "source": [
        "x_train, y_train = data_preparation(train_data, answer=True)"
      ],
      "execution_count": 0,
      "outputs": []
    },
    {
      "cell_type": "code",
      "metadata": {
        "id": "c9Tazcvzb2nr",
        "colab_type": "code",
        "colab": {}
      },
      "source": [
        "x_test, _ = data_preparation(test_data, answer=False)"
      ],
      "execution_count": 0,
      "outputs": []
    },
    {
      "cell_type": "code",
      "metadata": {
        "id": "gBhP7SvVfHMu",
        "colab_type": "code",
        "colab": {}
      },
      "source": [
        "zerg_unit = {'Rava' : 0, 'Drone' : 6, 'Overlord' : 1, 'Overseer' : 0, 'Viper' : 0, 'SwarmHost' : 0, 'Changeling' : 0, 'Zergling' : 0, 'Baneling' : 0, 'Queen' : 0, 'Hydralisk' : 0, 'Lurker' : 0, 'Roach' : 0, 'Mutalisk' : 0, 'Corruptor' : 0, 'BroodLord' : 0, 'Broodling' : 0, 'Infestor' : 0, 'InfestedTrrran' : 0, 'Ultralisk' : 0, 'NydusWorm' : 0}\n",
        "zerg_building = {'Hatchery' : 1, 'Lair' : 0, 'Hive' : 0, 'Extractor' : 0, 'EvolutionChamber' : 0, 'SpawningPool' : 0, 'BanelingNest' : 0, 'RoachWarren' : 0, 'SpineCrawler' : 0, 'SporeCrawler' : 0, 'HydraliskDen' : 0, 'Spire' : 0, 'InfestationPit' : 0, 'NydusNetwork' : 0, 'GreaterSpire' : 0, 'UltraliskCavern' : 0, 'NydusCanal' : 0}\n",
        "zerg_skill = {}\n",
        "\n",
        "terran_unit = {'SCV' : 6, 'MULE' : 0, 'Nuke' : 0, 'Marine' : 0, 'Cyclone' : 0, 'Marauder' : 0, 'Reaper' : 0, 'Ghost' : 0, 'Hellion' : 0, 'BattleHellion' : 0, 'SiegeTank' : 0, 'Thor' : 0, 'Viking' : 0, 'Medivac' : 0, 'Banshee' : 0, 'Raven' : 0, 'AutoTurret' : 0, 'Battlecruiser' : 0, 'WidowMine' : 0, 'Liberator' : 0}\n",
        "terran_building = {'CommandCenter' : 1, 'PlanetaryFortress' : 0, 'OrbitalCommand' : 0, 'SupplyDepot' : 0, 'Refinery' : 0, 'Barracks' : 0, 'BarracksTechLab' : 0, 'BarracksReactor' : 0, 'Bunker' : 0, 'EngineeringBay' : 0, 'MissileTurret' : 0, 'SensorTower' : 0, 'GhostAcademy' : 0, 'Factory' : 0,'FactoryTechLab' : 0,'FactoryReactor' : 0, 'Starport' : 0, 'StarportTechLab' : 0, 'StarportReactor' : 0,'Armory' : 0, 'FusionCore' : 0, 'TechLab' : 0, 'Reactor' : 0}\n",
        "terran_skill = {}\n",
        "\n",
        "protoss_unit = {'Probe' : 6, 'MothershipCore' : 0, 'Mothership' : 0, 'Zealot' : 0, 'Immortal' : 0, 'Stalker' : 0, 'Sentry' : 0, 'HighTemplar' : 0, 'DarkTemplar' : 0, 'Archon' : 0, 'Immertal' : 0, 'Observer' : 0, 'WarpPrism' : 0, 'Colossus' : 0, 'Disruptor' : 0, 'Phoenix' : 0, 'Carrier' : 0, 'VoidRay' : 0, 'Tempest' : 0, 'Oracle' : 0, 'Adept' : 0}\n",
        "protoss_building = {'Nexus' : 1, 'Pylon' : 0, 'Assimilator' : 0, 'Gateway' : 0, 'WarpGate' : 0, 'Forge' : 0, 'CyberneticsCore' : 0, 'PhotonCannon' : 0, 'Stargate' : 0, 'TwilightCouncil' : 0, 'RoboticsFacility' : 0, 'RoboticsBay' : 0, 'DarkShrine' : 0, 'TemplarArchive' : 0, 'FleetBeacon' : 0}\n",
        "protoss_skill = {}"
      ],
      "execution_count": 0,
      "outputs": []
    },
    {
      "cell_type": "code",
      "metadata": {
        "id": "IQxqXCh4fJvd",
        "colab_type": "code",
        "colab": {}
      },
      "source": [
        "zerg_unit_point = {'Rava' : 0, 'Drone' : 50, 'Overlord' : 100, 'Overseer' : 100, 'Viper' : 300, 'SwarmHost' : 175, 'Changeling' : 0, 'Zergling' : 50, 'Baneling' : 50, 'Queen' : 150, 'Hydralisk' : 150, 'Lurker' : 150, 'Roach' : 100, 'Mutalisk' : 200, 'Corruptor' : 250, 'BroodLord' : 300, 'Broodling' : 0, 'Infestor' : 250, 'InfestedTrrran' : 0, 'Ultralisk' : 500, 'NydusWorm' : 200}\n",
        "zerg_building_point = {'Hatchery' : 300, 'Lair' : 250, 'Hive' : 350, 'Extractor' : 25, 'EvolutionChamber' : 75, 'SpawningPool' : 200, 'BanelingNest' : 150, 'RoachWarren' : 150, 'SpineCrawler' : 100, 'SporeCrawler' : 75, 'HydraliskDen' : 200, 'Spire' : 400, 'InfestationPit' : 200, 'NydusNetwork' : 350, 'GreaterSpire' : 250, 'UltraliskCavern' : 350, 'NydusCanal' : 350}\n",
        "zerg_skill_point = {}\n",
        "\n",
        "terran_unit_point = {'SCV' : 50, 'MULE' : 0, 'Nuke' : 0, 'Marine' : 50, 'Cyclone' : 250, 'Marauder' : 125, 'Reaper' : 100, 'Ghost' : 275, 'Hellion' : 100, 'BattleHellion' : 0 ,'SiegeTank' : 275, 'Thor' : 500, 'Viking' : 225, 'Medivac' : 200, 'Banshee' : 250, 'Raven' : 300, 'AutoTurret' : 0, 'Battlecruiser' : 700, 'WidowMine' : 100, 'Liberator' : 0}\n",
        "terran_building_point = {'CommandCenter' : 400, 'PlanetaryFortress' : 200, 'OrbitalCommand' : 150, 'SupplyDepot' : 100, 'Refinery' : 75, 'Barracks' : 150, 'BarracksTechLab' : 100, 'BarracksReactor' : 75, 'Bunker' : 100, 'EngineeringBay' : 125, 'MissileTurret' : 100, 'SensorTower' : 225, 'GhostAcademy' : 200, 'Factory' : 250, 'FactoryTechLab' : 75, 'FactoryReactor' : 100, 'Starport' : 250, 'StarportTechLab' : 75, 'StarportReactor' : 100, 'Armory' : 250, 'FusionCore' : 300, 'TechLab' : 75, 'Reactor' : 100}\n",
        "terran_skill_point = {}\n",
        "\n",
        "protoss_unit_point = {'Probe' : 50, 'MothershipCore' : 200, 'Mothership' : 800, 'Zealot' : 100, 'Immortal' : 350, 'Stalker' : 175, 'Sentry' : 150, 'HighTemplar' : 200, 'DarkTemplar' : 250, 'Archon' : 0, 'Immertal' : 0, 'Observer' : 100, 'WarpPrism' : 200, 'Colossus' : 500, 'Disruptor' : 300, 'Phoenix' : 250, 'Carrier' : 600, 'VoidRay' : 400, 'Tempest' : 425, 'Oracle' : 300, 'Adept' : 125}\n",
        "protoss_building_point = {'Nexus' : 400, 'Pylon' : 100, 'Assimilator' : 75, 'Gateway' : 150, 'WarpGate' : 0, 'Forge' : 150, 'CyberneticsCore' : 150, 'PhotonCannon' : 150, 'Stargate' : 300, 'TwilightCouncil' : 250, 'RoboticsFacility' : 300, 'RoboticsBay' : 400, 'DarkShrine' : 300, 'TemplarArchive' : 350, 'FleetBeacon' : 500}\n",
        "protoss_skill_point = {}"
      ],
      "execution_count": 0,
      "outputs": []
    },
    {
      "cell_type": "code",
      "metadata": {
        "id": "yTxg12LOfK79",
        "colab_type": "code",
        "colab": {}
      },
      "source": [
        "# game_id 별 player 종족\n",
        "def get_species(df, game_id):\n",
        "  df = df.loc[df['game_id']==game_id]\n",
        "  \n",
        "  P0_species = df.loc[df['player']==0]\n",
        "  P0_species = P0_species['species'].iloc[0]\n",
        "\n",
        "  P1_species = df.loc[df['player']==1]\n",
        "  P1_species = P1_species['species'].iloc[0]\n",
        "  \n",
        "  df = df.loc[df['event']==2]\n",
        "  df_0 = df.loc[df['player']==0]\n",
        "  df_1 = df.loc[df['player']==1]\n",
        "\n",
        "  if P0_species == 0:\n",
        "    P0_unit = terran_unit.copy()\n",
        "    P0_building = terran_building.copy()\n",
        "    P0_skill = terran_skill.copy()\n",
        "    P0_unit_point = terran_unit_point.copy()\n",
        "    P0_building_point = terran_building_point.copy()\n",
        "    P0_skill_point = terran_skill_point.copy()\n",
        "  elif P0_species == 1:\n",
        "    P0_unit = protoss_unit.copy()\n",
        "    P0_building = protoss_building.copy()\n",
        "    P0_skill = protoss_skill.copy()\n",
        "    P0_unit_point = protoss_unit_point.copy()\n",
        "    P0_building_point = protoss_building_point.copy()\n",
        "    P0_skill_point = protoss_skill_point.copy()\n",
        "  elif P0_species == 2:\n",
        "    P0_unit = zerg_unit.copy()\n",
        "    P0_building = zerg_building.copy()\n",
        "    P0_skill = zerg_skill.copy()\n",
        "    P0_unit_point = zerg_unit_point.copy()\n",
        "    P0_building_point = zerg_building_point.copy()\n",
        "    P0_skill_point = zerg_skill_point.copy()\n",
        "  \n",
        "  if P1_species == 0:\n",
        "    P1_unit = terran_unit.copy()\n",
        "    P1_building = terran_building.copy()\n",
        "    P1_skill = terran_skill.copy()\n",
        "    P1_unit_point = terran_unit_point.copy()\n",
        "    P1_building_point = terran_building_point.copy()\n",
        "    P1_skill_point = terran_skill_point.copy()\n",
        "  elif P1_species == 1:\n",
        "    P1_unit = protoss_unit.copy()\n",
        "    P1_building = protoss_building.copy()\n",
        "    P1_skill = protoss_skill.copy()\n",
        "    P1_unit_point = protoss_unit_point.copy()\n",
        "    P1_building_point = protoss_building_point.copy()\n",
        "    P1_skill_point = protoss_skill_point.copy()\n",
        "  elif P1_species == 2:\n",
        "    P1_unit = zerg_unit.copy()\n",
        "    P1_building = zerg_building.copy()\n",
        "    P1_skill = zerg_skill.copy()\n",
        "    P1_unit_point = zerg_unit_point.copy()\n",
        "    P1_building_point = zerg_building_point.copy()\n",
        "    P1_skill_point = zerg_skill_point.copy()\n",
        "  \n",
        "  return [P0_unit, P0_building, P0_unit_point, P0_building_point, P1_unit, P1_building, P1_unit_point, P1_building_point]"
      ],
      "execution_count": 0,
      "outputs": []
    },
    {
      "cell_type": "code",
      "metadata": {
        "id": "8Uw95RCUfMkv",
        "colab_type": "code",
        "colab": {}
      },
      "source": [
        "# game_id 별 player의 event 추출\n",
        "def get_event(df, game_id):\n",
        "    df = df.loc[df['game_id']==game_id]\n",
        "    df = df.loc[df['event']==2]\n",
        "    df_0 = df.loc[df['player']==0]\n",
        "    df_1 = df.loc[df['player']==1]\n",
        "\n",
        "    P0_contents = df_0['event_contents'].str.split()\n",
        "    P0_contents = P0_contents.apply(lambda x: pd.Series(x))\n",
        "    try:\n",
        "      a = P0_contents[2]\n",
        "    except IndexError: a = pd.Series(['null'])\n",
        "    a.fillna('null', inplace = True)\n",
        "    a = a.to_list()\n",
        "    \n",
        "    for i in range(len(a)):\n",
        "      aparse = re.sub('[-=.#/?:$};]', '', a[i])\n",
        "      a[i] = aparse\n",
        "    \n",
        "    P1_contents = df_1['event_contents'].str.split()\n",
        "    P1_contents = P1_contents.apply(lambda x: pd.Series(x))\n",
        "      \n",
        "    try:  \n",
        "      b = P1_contents[2]\n",
        "    except IndexError: b = pd.Series(['null'])\n",
        "    b.fillna('null', inplace = True)\n",
        "    b = b.to_list()\n",
        "\n",
        "    for i in range(len(b)):\n",
        "      bparse = re.sub('[-=.#/?:$};]', '', b[i])\n",
        "      b[i] = bparse\n",
        "\n",
        "    return [a,b]"
      ],
      "execution_count": 0,
      "outputs": []
    },
    {
      "cell_type": "code",
      "metadata": {
        "id": "yZVffo0UfO4t",
        "colab_type": "code",
        "colab": {}
      },
      "source": [
        "def get_event_time(df, game_id):\n",
        "    df = df.loc[df['game_id']==game_id]\n",
        "    df = df.loc[df['event']==2]\n",
        "    df_0 = df.loc[df['player']==0]\n",
        "    df_1 = df.loc[df['player']==1]\n",
        "    \n",
        "    df_0 = df_0[\"stage\"].tolist()\n",
        "    df_1 = df_1[\"stage\"].tolist()\n",
        "    return [df_0, df_1]"
      ],
      "execution_count": 0,
      "outputs": []
    },
    {
      "cell_type": "code",
      "metadata": {
        "id": "sg8mAblrfRcP",
        "colab_type": "code",
        "colab": {}
      },
      "source": [
        "#유닛 생산 분할\n",
        "def get_unit_point_split(df, game_id):\n",
        "  P = get_species(df, game_id)\n",
        "  P0_unit = P[0]\n",
        "  P0_unit_point = P[2]\n",
        "  P1_unit = P[4]\n",
        "  P1_unit_point = P[6]\n",
        "  c = get_event(df ,game_id)\n",
        "  a = c[0]\n",
        "  b = c[1]\n",
        "\n",
        "  d = get_event_time(df, game_id)\n",
        "  e = d[0]\n",
        "  e.append(7)\n",
        "  e.append(7)\n",
        "  f = d[1]\n",
        "  f.append(7)\n",
        "  f.append(7)\n",
        "\n",
        "  P0_time = [0,0,0,0,0,0,0]\n",
        "  P1_time = [0,0,0,0,0,0,0]\n",
        "\n",
        "  for i in range(len(a)):\n",
        "      aparse = re.sub('[-=.#/?:$};]', '', a[i])\n",
        "      a[i] = aparse\n",
        "      if a[i] == 'BuildSiegeTank':\n",
        "        a[i] = 'TrainSiegeTank'\n",
        "      if a[i] == 'BuildWidowMine':\n",
        "        a[i] = 'TrainWidowMine'\n",
        "      if a[i] == 'MorphToOverseer':\n",
        "        a[i] = 'MorphOverseer'\n",
        "      if a[i] == 'CalldwonMULE':\n",
        "        a[i] = 'TrainMULE'\n",
        "      if a[i] == 'MorphToRavager':\n",
        "        a[i] = 'MorphRava'\n",
        "      if a[i] == 'MorphToTransportOverlord':\n",
        "        a[i] = 'ToTransportOverlord'\n",
        "      if a[i] == 'MorphToGreaterSpire':\n",
        "        a[i] = 'BuildGreaterSpire'\n",
        "      if a[i] == 'MorphToBroodLord':\n",
        "        a[i] = 'MorphBroodLord'\n",
        "      if a[i] == 'MorphToLurker':\n",
        "        a[i] = 'MorphLurker'\n",
        "      if a[i] == 'TrainInterceptor':\n",
        "        a[i] = 'Interceptor'\n",
        "      if a[i] == 'BuildAutoTurret':\n",
        "        a[i] = 'TrainAutoTurret'\n",
        "      if a[i] == 'BuildThor':\n",
        "        a[i] = 'TrainThor'\n",
        "      if a[i] == 'BuildBattleHellion':\n",
        "        a[i] = 'TrainBattleHellion'\n",
        "      if a[i] == 'BuildPointDefenseDrone':\n",
        "        a[i] = 'PointDefenseDrone'\n",
        "\n",
        "  for i in range(len(a)):\n",
        "    time_count = 0\n",
        "    if 'Train' in a[i] or 'Morph' in a[i] and 'Cancel' not in a[i]:\n",
        "      c = a[i]\n",
        "      P0_unit[c[5:]] += 1\n",
        "  \n",
        "    elif  'Build' not in a[i] and 'Cancel' in a[i]:\n",
        "      c = a[i]\n",
        "      p = c[6:]\n",
        "      if p in P0_unit:\n",
        "        P0_unit[p] -= 1\n",
        "    \n",
        "    if e[i] < e[i+1]:\n",
        "      P0_unit_list = list(P0_unit.values())\n",
        "      P0_unit_point_list = list(P0_unit_point.values())\n",
        "    \n",
        "      for j in range(len(P0_unit_list)):\n",
        "        try:\n",
        "          P0_time[e[i]] += P0_unit_list[j] * P0_unit_point_list[j]\n",
        "        except IndexError: P0_time[-1] += P0_unit_list[j] * P0_unit_point_list[j]\n",
        "\n",
        "  for i in range(len(b)):\n",
        "      bparse = re.sub('[-=.#/?:$};]', '', b[i])\n",
        "      b[i] = bparse\n",
        "      if b[i] == 'BuildSiegeTank':\n",
        "        b[i] = 'TrainSiegeTank'\n",
        "      if b[i] == 'BuildWidowMine':\n",
        "        b[i] = 'TrainWidowMine'\n",
        "      if b[i] == 'MorphToOverseer':\n",
        "        b[i] = 'MorphOverseer'\n",
        "      if b[i] == 'CalldwonMULE':\n",
        "        b[i] = 'TrainMULE'\n",
        "      if b[i] == 'MorphToRavager':\n",
        "        b[i] = 'MorphRava'\n",
        "      if b[i] == 'MorphToTransportOverlord':\n",
        "        b[i] = 'ToTransportOverlord'\n",
        "      if b[i] == 'MorphToGreaterSpire':\n",
        "        b[i] = 'BuildGreaterSpire'\n",
        "      if b[i] == 'MorphToBroodLord':\n",
        "        b[i] = 'MorphBroodLord'\n",
        "      if b[i] == 'MorphToLurker':\n",
        "        b[i] = 'MorphLurker'\n",
        "      if b[i] == 'TrainInterceptor':\n",
        "        b[i] = 'Interceptor'\n",
        "      if b[i] == 'BuildAutoTurret':\n",
        "        b[i] = 'TrainAutoTurret'\n",
        "      if b[i] == 'BuildThor':\n",
        "        b[i] = 'TrainThor'\n",
        "      if b[i] == 'BuildBattleHellion':\n",
        "        b[i] = 'TrainBattleHellion'\n",
        "      if b[i] == 'BuildPointDefenseDrone':\n",
        "        b[i] = 'PointDefenseDrone'\n",
        "\n",
        "\n",
        "  for i in range(len(b)):\n",
        "    if 'Train' in b[i] or 'Morph' in b[i] and 'Cancel' not in b[i]:\n",
        "      d = b[i]\n",
        "      P1_unit[d[5:]] += 1\n",
        "  \n",
        "    elif 'Build' not in b[i] and 'Cancel' in b[i]:\n",
        "      d = b[i]\n",
        "      q = d[6:]\n",
        "      if q in P1_unit:\n",
        "        P1_unit[q] -= 1\n",
        "\n",
        "    if f[i] < f[i+1]:\n",
        "      P1_unit_list = list(P1_unit.values())\n",
        "      P1_unit_point_list = list(P1_unit_point.values())\n",
        "    \n",
        "      for j in range(len(P1_unit_list)):\n",
        "        try:\n",
        "          P1_time[f[i]] += P1_unit_list[j] * P1_unit_point_list[j]\n",
        "        except IndexError: P1_time[-1] += P1_unit_list[j] * P1_unit_point_list[j]\n",
        "\n",
        "  return P0_time, P1_time"
      ],
      "execution_count": 0,
      "outputs": []
    },
    {
      "cell_type": "code",
      "metadata": {
        "id": "4kAUHw2kfVnf",
        "colab_type": "code",
        "colab": {}
      },
      "source": [
        "def get_building_point_split(df, game_id):\n",
        "  P = get_species(df, game_id)\n",
        "  P0_building = P[1]\n",
        "  P0_building_point = P[3]\n",
        "  P1_building = P[5]\n",
        "  P1_building_point = P[7]\n",
        "  c = get_event(df ,game_id)\n",
        "  a = c[0]\n",
        "  b = c[1]\n",
        "\n",
        "  d = get_event_time(df, game_id)\n",
        "  e = d[0]\n",
        "  e.append(7)\n",
        "  e.append(7) \n",
        "  f = d[1]\n",
        "  f.append(7)\n",
        "  f.append(7)\n",
        "\n",
        "  P0_time = [0,0,0,0,0,0,0]\n",
        "  P1_time = [0,0,0,0,0,0,0]\n",
        "\n",
        "  for i in range(len(a)):\n",
        "      aparse = re.sub('[-=.#/?:$};]', '', a[i])\n",
        "      a[i] = aparse\n",
        "      if a[i] == 'BuildSiegeTank':\n",
        "        a[i] = 'TrainSiegeTank'\n",
        "      if a[i] == 'BuildWidowMine':\n",
        "        a[i] = 'TrainWidowMine'\n",
        "      if a[i] == 'BuildHellion':\n",
        "        a[i] = 'TrainHellion'\n",
        "      if a[i] == 'BuildCreepTumor':\n",
        "        a[i] = 'CreepTumor'\n",
        "      if a[i] == 'BuildOracleStasisTrap':\n",
        "        a[i] = 'OracleStasisTrap'\n",
        "      if a[i] == 'BuildAutoTurret':\n",
        "        a[i] = 'TrainAutoTurret'\n",
        "      if a[i] == 'BuildThor':\n",
        "        a[i] = 'TrainThor'\n",
        "      if a[i] == 'BuildBattleHellion':\n",
        "        a[i] = 'TrainBattleHellion'\n",
        "      if a[i] == 'BuildPointDefenseDrone':\n",
        "        a[i] = 'PointDefenseDrone'\n",
        "\n",
        "  for i in range(len(a)):\n",
        "    if 'Build' in a[i] and 'Cancel' not in a[i] and 'Halt' not in a[i]:\n",
        "      c = a[i]\n",
        "      P0_building[c[5:]] += 1\n",
        "\n",
        "    elif  'Build' not in a[i] and 'Cancel' in a[i]:\n",
        "      c = a[i]\n",
        "      p = c[6:]\n",
        "      if p in P0_building:\n",
        "        P0_building[p] -= 1\n",
        "\n",
        "    if e[i] < e[i+1]:\n",
        "      P0_building_list = list(P0_building.values())\n",
        "      P0_building_point_list = list(P0_building_point.values())\n",
        "    \n",
        "      for j in range(len(P0_building_list)):\n",
        "        try:\n",
        "          P0_time[e[i]] += P0_building_list[j] * P0_building_point_list[j]\n",
        "        except IndexError: P0_time[-1] += P0_building_list[j] * P0_building_point_list[j]\n",
        "\n",
        "  for i in range(len(b)):\n",
        "      bparse = re.sub('[-=.#/?:$};]', '', b[i])\n",
        "      b[i] = bparse\n",
        "      if b[i] == 'BuildSiegeTank':\n",
        "        b[i] = 'TrainSiegeTank'\n",
        "      if b[i] == 'BuildWidowMine':\n",
        "        b[i] = 'TrainWidowMine'\n",
        "      if b[i] == 'BuildHellion':\n",
        "        b[i] = 'TrainHellion'\n",
        "      if b[i] == 'BuildCreepTumor':\n",
        "        b[i] = 'CreepTumor'\n",
        "      if b[i] == 'BuildOracleStasisTrap':\n",
        "        b[i] = 'OracleStasisTrap'\n",
        "      if b[i] == 'BuildAutoTurret':\n",
        "        b[i] = 'TrainAutoTurret'\n",
        "      if b[i] == 'BuildThor':\n",
        "        b[i] = 'TrainThor'\n",
        "      if b[i] == 'BuildBattleHellion':\n",
        "        b[i] = 'TrainBattleHellion'\n",
        "      if b[i] == 'BuildPointDefenseDrone':\n",
        "        b[i] = 'PointDefenseDrone'\n",
        "\n",
        "  for i in range(len(b)):\n",
        "    if 'Build' in b[i] and 'Cancel' not in b[i] and 'Halt' not in b[i]:\n",
        "      c = b[i]\n",
        "      P1_building[c[5:]] += 1\n",
        "  \n",
        "    elif  'Build' not in b[i] and 'Cancel' in b[i]:\n",
        "      c = b[i]\n",
        "      p = c[6:]\n",
        "      if p in P1_building:\n",
        "        P1_building[p] -= 1\n",
        "\n",
        "    if f[i] < f[i+1]:\n",
        "      P1_building_list = list(P1_building.values())\n",
        "      P1_building_point_list = list(P1_building_point.values())\n",
        "    \n",
        "      for j in range(len(P1_building_list)):\n",
        "        try:\n",
        "          P1_time[f[i]] += P1_building_list[j] * P1_building_point_list[j]\n",
        "        except IndexError: P1_time[-1] += P1_building_list[j] * P1_building_point_list[j]\n",
        "\n",
        "  return P0_time, P1_time"
      ],
      "execution_count": 0,
      "outputs": []
    },
    {
      "cell_type": "code",
      "metadata": {
        "id": "WQvYb8hCfZdH",
        "colab_type": "code",
        "colab": {}
      },
      "source": [
        "# 유닛,건물 분할 계산\n",
        "def get_total_point_split(df):\n",
        "    game_ids = len(df['game_id'].unique())\n",
        "    P0_total_unit_point = []\n",
        "    P0_total_building_point = []\n",
        "    P1_total_unit_point = []\n",
        "    P1_total_building_point = []\n",
        "\n",
        "    try:\n",
        "      for i in range(game_ids):\n",
        "        unit_point = get_unit_point_split(df,i)\n",
        "        building_point = get_building_point_split(df,i)\n",
        "        \n",
        "        P0_total_unit_point.append(unit_point[0])\n",
        "        P1_total_unit_point.append(unit_point[1])\n",
        "        P0_total_building_point.append(building_point[0])\n",
        "        P1_total_building_point.append(building_point[1])\n",
        "    except:return [P0_total_unit_point, P0_total_building_point, P1_total_unit_point, P1_total_building_point]\n",
        "    \n",
        "    return [P0_total_unit_point, P0_total_building_point, P1_total_unit_point, P1_total_building_point]"
      ],
      "execution_count": 0,
      "outputs": []
    },
    {
      "cell_type": "code",
      "metadata": {
        "id": "EkOLJxBvftwl",
        "colab_type": "code",
        "colab": {}
      },
      "source": [
        "total = get_total_point_split(train_data)"
      ],
      "execution_count": 0,
      "outputs": []
    },
    {
      "cell_type": "code",
      "metadata": {
        "id": "V07N1xXOggkl",
        "colab_type": "code",
        "colab": {}
      },
      "source": [
        "P0_unit_split = total[0]\n",
        "P0_building_split = =total[1]\n",
        "P1_unit_split = total[2]\n",
        "P1_building_split = total[3]"
      ],
      "execution_count": 0,
      "outputs": []
    },
    {
      "cell_type": "code",
      "metadata": {
        "id": "XEdXV2S-l_SG",
        "colab_type": "code",
        "colab": {}
      },
      "source": [
        "P0_unit_df = pd.DataFrame(P0_unit_split, columns =['P0_unit_t1', 'P0_unit_t2', 'P0_unit_t3', 'P0_unit_t4', 'P0_unit_t5', 'P0_unit_t6', 'P0_unit_t7',],dtype = int)\n",
        "P0_building_df = pd.DataFrame(P0_building_split, columns =['P0_building_t1', 'P0_building_t2', 'P0_building_t3', 'P0_building_t4', 'P0_building_t5', 'P0_building_t6', 'P0_building_t7'],dtype = int)\n",
        "P1_unit_df = pd.DataFrame(P1_unit_split, columns =['P1_unit_t1', 'P1_unit_t2', 'P1_unit_t3', 'P1_unit_t4', 'P1_unit_t5', 'P1_unit_t6', 'P1_unit_t7',],dtype = int)\n",
        "P1_building_df = pd.DataFrame(P1_building_split, columns =['P1_building_t1', 'P1_building_t2', 'P1_building_t3', 'P1_building_t4', 'P1_building_t5', 'P1_building_t6', 'P1_building_t7'],dtype = int)"
      ],
      "execution_count": 0,
      "outputs": []
    },
    {
      "cell_type": "code",
      "metadata": {
        "id": "ZZZctNrOmJSG",
        "colab_type": "code",
        "colab": {}
      },
      "source": [
        "x_train = pd.merge(x_train, P0_unit_df, left_index=True, right_index=True)\n",
        "x_train = pd.merge(x_train, P0_building_df, left_index=True, right_index=True)\n",
        "x_train = pd.merge(x_train, P1_unit_df, left_index=True, right_index=True)\n",
        "x_train = pd.merge(x_train, P1_building_df, left_index=True, right_index=True)"
      ],
      "execution_count": 0,
      "outputs": []
    },
    {
      "cell_type": "code",
      "metadata": {
        "id": "ZaC2C1a2bbWl",
        "colab_type": "code",
        "colab": {}
      },
      "source": [
        "total_t = get_total_point_split(test_data)"
      ],
      "execution_count": 0,
      "outputs": []
    },
    {
      "cell_type": "code",
      "metadata": {
        "id": "RhLXzdvkbdB-",
        "colab_type": "code",
        "colab": {}
      },
      "source": [
        "P0_unit_split_t = total_t[0]\n",
        "P0_building_split_t = =total_t[1]\n",
        "P1_unit_split_t = total_t[2]\n",
        "P1_building_split_t = total_t[3]"
      ],
      "execution_count": 0,
      "outputs": []
    },
    {
      "cell_type": "code",
      "metadata": {
        "id": "OpMX0WzJbdQq",
        "colab_type": "code",
        "colab": {}
      },
      "source": [
        "P0_unit_df_t = pd.DataFrame(P0_unit_split_t, columns =['P0_unit_t1', 'P0_unit_t2', 'P0_unit_t3', 'P0_unit_t4', 'P0_unit_t5', 'P0_unit_t6', 'P0_unit_t7',],dtype = int)\n",
        "P0_building_df_t = pd.DataFrame(P0_building_split_t, columns =['P0_building_t1', 'P0_building_t2', 'P0_building_t3', 'P0_building_t4', 'P0_building_t5', 'P0_building_t6', 'P0_building_t7'],dtype = int)\n",
        "P1_unit_df_t = pd.DataFrame(P1_unit_split_t, columns =['P1_unit_t1', 'P1_unit_t2', 'P1_unit_t3', 'P1_unit_t4', 'P1_unit_t5', 'P1_unit_t6', 'P1_unit_t7',],dtype = int)\n",
        "P1_building_df_t = pd.DataFrame(P1_building_split_t, columns =['P1_building_t1', 'P1_building_t2', 'P1_building_t3', 'P1_building_t4', 'P1_building_t5', 'P1_building_t6', 'P1_building_t7'],dtype = int)"
      ],
      "execution_count": 0,
      "outputs": []
    },
    {
      "cell_type": "code",
      "metadata": {
        "id": "U3qZ-KSrbdfV",
        "colab_type": "code",
        "colab": {}
      },
      "source": [
        "x_test = pd.merge(x_test, P0_unit_df_t, left_index=True, right_index=True)\n",
        "x_test = pd.merge(x_test, P0_building_df_t, left_index=True, right_index=True)\n",
        "x_test = pd.merge(x_test, P1_unit_df_t, left_index=True, right_index=True)\n",
        "x_test = pd.merge(x_test, P1_building_df_t, left_index=True, right_index=True)"
      ],
      "execution_count": 0,
      "outputs": []
    },
    {
      "cell_type": "code",
      "metadata": {
        "id": "VFdPlWQffc3K",
        "colab_type": "code",
        "colab": {}
      },
      "source": [
        "def get_species_winrate(df, game_id):\n",
        "  df = df.loc[df['game_id']==game_id]\n",
        "  \n",
        "  P0_species = df.loc[df['player']==0]\n",
        "  P0_species = P0_species['species'].iloc[0]\n",
        "\n",
        "  P1_species = df.loc[df['player']==1]\n",
        "  P1_species = P1_species['species'].iloc[0]\n",
        "  \n",
        "  df = df.loc[df['event']==2]\n",
        "  df_0 = df.loc[df['player']==0]\n",
        "  df_1 = df.loc[df['player']==1]\n",
        "\n",
        "  \n",
        "  if P0_species == P1_species:\n",
        "    P0_winrate = 50\n",
        "    P1_winrate = 50\n",
        "  elif P0_species == 0 and P1_species == 1:\n",
        "    P0_winrate = 49.88\n",
        "    P1_winrate = 50.12\n",
        "  elif P0_species == 1 and P1_species == 0:\n",
        "    P0_winrate = 50.12\n",
        "    P1_winrate = 49.88\n",
        "  elif P0_species == 0 and P1_species == 2:\n",
        "    P0_winrate = 49.35\n",
        "    P1_winrate = 50.65\n",
        "  elif P0_species == 2 and P1_species == 0:\n",
        "    P0_winrate = 50.65\n",
        "    P1_winrate = 49.35\n",
        "  elif P0_species == 1 and P1_species == 2:\n",
        "    P0_winrate = 48.79\n",
        "    P1_winrate = 51.21\n",
        "  elif P0_species == 2 and P1_species == 1:\n",
        "    P0_winrate = 51.21\n",
        "    P1_winrate = 48.79\n",
        "\n",
        "  return [P0_winrate, P1_winrate]"
      ],
      "execution_count": 0,
      "outputs": []
    },
    {
      "cell_type": "code",
      "metadata": {
        "id": "_OAsxGi-fhUn",
        "colab_type": "code",
        "colab": {}
      },
      "source": [
        "def get_total_species_winrate(df):\n",
        "  game_ids = len(df['game_id'].unique())\n",
        "  P0_total_winrate = []\n",
        "  P1_total_winrate = []\n",
        "\n",
        "  for i in range(game_ids):\n",
        "    c = get_species_winrate(df, i)\n",
        "    P0_total_winrate.append(c[0])\n",
        "    P1_total_winrate.append(c[1])\n",
        "  \n",
        "  return P0_total_winrate, P1_total_winrate"
      ],
      "execution_count": 0,
      "outputs": []
    },
    {
      "cell_type": "code",
      "metadata": {
        "id": "dQ_AOzdUgmYT",
        "colab_type": "code",
        "colab": {}
      },
      "source": [
        "winrate = get_total_species_winrate(train_data)"
      ],
      "execution_count": 0,
      "outputs": []
    },
    {
      "cell_type": "code",
      "metadata": {
        "id": "jFynlU6ftmeU",
        "colab_type": "code",
        "colab": {}
      },
      "source": [
        "P0_species_winrate = winrate[0]\n",
        "P1_species_winrate = winrate[1]"
      ],
      "execution_count": 0,
      "outputs": []
    },
    {
      "cell_type": "code",
      "metadata": {
        "id": "11I2T0d69mfw",
        "colab_type": "code",
        "colab": {}
      },
      "source": [
        "P0_species_winrate = pd.DataFrame(P0_species_winrate, columns =['P0_species_winrate',],dtype = float)\n",
        "P1_species_winrate = pd.DataFrame(P1_species_winrate, columns =['P1_species_winrate'],dtype = float)"
      ],
      "execution_count": 0,
      "outputs": []
    },
    {
      "cell_type": "code",
      "metadata": {
        "id": "V2Miu8QD9ojN",
        "colab_type": "code",
        "colab": {}
      },
      "source": [
        "x_train = pd.merge(x_train, P0_species_winrate, left_index=True, right_index=True)\n",
        "x_train = pd.merge(x_train, P1_species_winrate, left_index=True, right_index=True)"
      ],
      "execution_count": 0,
      "outputs": []
    },
    {
      "cell_type": "code",
      "metadata": {
        "id": "soqgTl12cGjM",
        "colab_type": "code",
        "colab": {}
      },
      "source": [
        "winrate_t = get_total_species_winrate(test_data)"
      ],
      "execution_count": 0,
      "outputs": []
    },
    {
      "cell_type": "code",
      "metadata": {
        "id": "bh93VI5IcHhs",
        "colab_type": "code",
        "colab": {}
      },
      "source": [
        "P0_species_winrate_t = winrate_t[0]\n",
        "P1_species_winrate_t = winrate_t[1]"
      ],
      "execution_count": 0,
      "outputs": []
    },
    {
      "cell_type": "code",
      "metadata": {
        "id": "b0ACmf4FcHZ_",
        "colab_type": "code",
        "colab": {}
      },
      "source": [
        "P0_species_winrate_t = pd.DataFrame(P0_species_winrate_t, columns =['P0_species_winrate',],dtype = float)\n",
        "P1_species_winrate_t = pd.DataFrame(P1_species_winrate_t, columns =['P1_species_winrate'],dtype = float)"
      ],
      "execution_count": 0,
      "outputs": []
    },
    {
      "cell_type": "code",
      "metadata": {
        "id": "FNDn0xA1cHOO",
        "colab_type": "code",
        "colab": {}
      },
      "source": [
        "x_train = pd.merge(x_train, P0_species_winrate_t, left_index=True, right_index=True)\n",
        "x_train = pd.merge(x_train, P1_species_winrate_t, left_index=True, right_index=True)"
      ],
      "execution_count": 0,
      "outputs": []
    },
    {
      "cell_type": "code",
      "metadata": {
        "id": "LAMamhu-nkQQ",
        "colab_type": "code",
        "colab": {}
      },
      "source": [
        "def map_and_starting(train):\n",
        "  df_train = pd.DataFrame(train.game_id.unique(), columns=['game_id'])\n",
        "  \n",
        "  df_train_p0 = train[(train.event==0)&(train.player==0)]\n",
        "  df_train_p0 = df_train_p0[df_train_p0.shift(1).game_id!=df_train_p0.game_id] # 쉬프트를 이용하여 각 게임의 첫번째 데이터 찾기\n",
        "  df_train_p0 = df_train_p0.iloc[:, [0,6]].rename({'event_contents':'player0_starting'}, axis = 1)\n",
        "  df_train_p0.index = df_train_p0['game_id']\n",
        "  df_train_p0 = df_train_p0.drop(['game_id'], axis=1)\n",
        "  df_train = pd.merge(df_train, df_train_p0, on='game_id', how='left')\n",
        "  del df_train_p0\n",
        "\n",
        "  df_train_p1 = train[(train.event==0)&(train.player==1)]\n",
        "  df_train_p1 = df_train_p1[df_train_p1.shift(1).game_id!=df_train_p1.game_id]\n",
        "  df_train_p1 = df_train_p1.iloc[:, [0,6]].rename({'event_contents':'player1_starting'}, axis = 1)\n",
        "  df_train_p1.index = df_train_p1['game_id']\n",
        "  df_train_p1 = df_train_p1.drop(['game_id'], axis=1)\n",
        "  df_train = pd.merge(df_train, df_train_p1, on='game_id', how='left')\n",
        "  del df_train_p1\n",
        "\n",
        "  df_train['player0_starting'] = df_train.player0_starting.str.split('(').str[1]\n",
        "  df_train['player0_starting'] = df_train.player0_starting.str.split(')').str[0]\n",
        "  split_xy = df_train.player0_starting.str.split(',')\n",
        "  df_train['player0_x'] = split_xy.str[0].astype('float')\n",
        "  df_train['player0_y'] = split_xy.str[1].astype('float')\n",
        "  del split_xy\n",
        "\n",
        "  df_train['player1_starting'] = df_train.player1_starting.str.split('(').str[1]\n",
        "  df_train['player1_starting'] = df_train.player1_starting.str.split(')').str[0]\n",
        "  split_xy = df_train.player1_starting.str.split(',')\n",
        "  df_train['player1_x'] = split_xy.str[0].astype('float')\n",
        "  df_train['player1_y'] = split_xy.str[1].astype('float')\n",
        "  del split_xy\n",
        "  \n",
        "  df_train = df_train.set_index('game_id')\n",
        "  location_p0 = df_train.loc[:, ['player0_x', 'player0_y']]\n",
        "  location_p0 = location_p0.rename({'player0_x':'location_x', 'player0_y':'location_y'}, axis=1)\n",
        "\n",
        "  location_p1 = df_train.loc[:, ['player1_x', 'player1_y']]\n",
        "  location_p1 = location_p1.rename({'player1_x':'location_x', 'player1_y':'location_y'}, axis=1)\n",
        "  location_p1.index += location_p0.index[-1]+1\n",
        "\n",
        "  location_p1.index = location_p1.index.map(int)\n",
        "\n",
        "  location = pd.concat([location_p0, location_p1])\n",
        "  location = location.fillna(0)\n",
        "\n",
        "  del location_p0, location_p1\n",
        "\n",
        "  kmeans_clst = KMeans(n_clusters=15).fit(location)\n",
        "  location['starting'] = kmeans_clst.labels_+1\n",
        "\n",
        "  for cluster in range(15):\n",
        "    point = location[location.starting==cluster+1]\n",
        "    loc = point.loc[:,['location_x', 'location_y']]\n",
        "    del point\n",
        "    loc['center_x'] = kmeans_clst.cluster_centers_[cluster][0]\n",
        "    loc['center_y'] = kmeans_clst.cluster_centers_[cluster][1]\n",
        "    distance = np.sqrt(np. square(loc.location_x - loc.center_x) + np.square(loc.location_y - loc.center_y))\n",
        "    location.loc[loc.index, 'distance'] = distance\n",
        "    del loc\n",
        "  \n",
        "  idx = location[location.distance>5].index\n",
        "  location.loc[idx, 'starting'] = 0\n",
        "  del idx\n",
        "  location.index = location.index.map(int)\n",
        "\n",
        "  df_train['player0_starting'] = location.loc[df_train.index, 'starting']\n",
        "  location.index -= (df_train.index[-1]+1)\n",
        "  df_train['player1_starting'] = location.loc[df_train.index, 'starting']\n",
        "  del location\n",
        "\n",
        "  # 불필요한 컬럼 삭제\n",
        "  df_train = df_train.drop(['player0_x', 'player0_y', 'player1_x', 'player1_y'], axis = 1)\n",
        "  df_train = df_train.fillna(0)\n",
        "\n",
        "  map_list = []\n",
        "  for point in range(1,16):\n",
        "    couple = df_train[df_train.player0_starting == point].player1_starting.value_counts()\n",
        "    if couple[couple.index[1]]<100:\n",
        "        map_list.append([point, couple.index[0], 999])\n",
        "    else:\n",
        "        map_list.append([point, couple.index[0], couple.index[1]])\n",
        "  map_list = np.sort(map_list, axis = 1)\n",
        "  map_list = np.unique(map_list, axis = 0)\n",
        "\n",
        "  for m in map_list:\n",
        "    idx = df_train[(df_train.player0_starting == 0)&((df_train.player1_starting == m[0])|(df_train.player1_starting == m[2]))].index\n",
        "    df_train.loc[idx, 'player0_starting'] = m[1]\n",
        "    del idx\n",
        "    idx = df_train[(df_train.player0_starting == 0)&((df_train.player1_starting == m[1])|(df_train.player1_starting == m[2]))].index\n",
        "    df_train.loc[idx, 'player0_starting'] = m[0]\n",
        "    del idx\n",
        "    \n",
        "    idx = df_train[(df_train.player1_starting == 0)&((df_train.player0_starting == m[0])|(df_train.player0_starting == m[2]))].index\n",
        "    df_train.loc[idx, 'player1_starting'] = m[1]\n",
        "    del idx\n",
        "    idx = df_train[(df_train.player1_starting == 0)&((df_train.player0_starting == m[1])|(df_train.player0_starting == m[2]))].index\n",
        "    df_train.loc[idx, 'player1_starting'] = m[0]\n",
        "    del idx\n",
        "  df_train[(df_train.player0_starting == 0)|(df_train.player1_starting == 0)].head()\n",
        "\n",
        "  for map_num, m in enumerate(map_list):\n",
        "    idx = df_train[(df_train.player0_starting == m[0])|(df_train.player0_starting == m[1])|(df_train.player0_starting == m[2])].index\n",
        "    df_train.loc[idx, 'map'] = map_num\n",
        "  del idx, map_list\n",
        "\n",
        "  return df_train"
      ],
      "execution_count": 0,
      "outputs": []
    },
    {
      "cell_type": "code",
      "metadata": {
        "id": "UYCP5GdDnn25",
        "colab_type": "code",
        "colab": {}
      },
      "source": [
        "map_starting = map_and_starting(train_data)"
      ],
      "execution_count": 0,
      "outputs": []
    },
    {
      "cell_type": "code",
      "metadata": {
        "id": "WqQNSBB9UuZ4",
        "colab_type": "code",
        "colab": {}
      },
      "source": [
        "x_train = pd.merge(x_train, map_starting, left_index=True, right_index=True)"
      ],
      "execution_count": 0,
      "outputs": []
    },
    {
      "cell_type": "code",
      "metadata": {
        "id": "6J5OvihFcZwm",
        "colab_type": "code",
        "colab": {}
      },
      "source": [
        "map_starting_t = map_and_starting(test_data)"
      ],
      "execution_count": 0,
      "outputs": []
    },
    {
      "cell_type": "code",
      "metadata": {
        "id": "99PC5MzbceBO",
        "colab_type": "code",
        "colab": {}
      },
      "source": [
        "x_test = pd.merge(x_test, map_starting_t, left_index=True, right_index=True)"
      ],
      "execution_count": 0,
      "outputs": []
    },
    {
      "cell_type": "code",
      "metadata": {
        "id": "8rBJlBVEckk8",
        "colab_type": "code",
        "colab": {}
      },
      "source": [
        "# 모델 및 파라미터 정의\n",
        "def lgb_cv(num_leaves, learning_rate, n_estimators, subsample, colsample_bytree, reg_alpha, reg_lambda, x_data=None, y_data=None, n_splits=5, output='score'):\n",
        "    score = 0\n",
        "    kf = KFold(n_splits=n_splits)\n",
        "    models = []\n",
        "    for train_index, valid_index in kf.split(x_data):\n",
        "        x_train, y_train = x_data.iloc[train_index], y_data[train_index]\n",
        "        x_valid, y_valid = x_data.iloc[valid_index], y_data[valid_index]\n",
        "        \n",
        "        model = lgb.LGBMClassifier(\n",
        "            num_leaves = int(num_leaves), \n",
        "            learning_rate = learning_rate, \n",
        "            n_estimators = int(n_estimators), \n",
        "            subsample = np.clip(subsample, 0, 1), \n",
        "            colsample_bytree = np.clip(colsample_bytree, 0, 1), \n",
        "            reg_alpha = reg_alpha, \n",
        "            reg_lambda = reg_lambda,\n",
        "        )\n",
        "        \n",
        "        model.fit(x_train, y_train)\n",
        "        models.append(model)\n",
        "        \n",
        "        pred = model.predict_proba(x_valid)[:, 1]\n",
        "        true = y_valid\n",
        "        score += roc_auc_score(true, pred)/n_splits\n",
        "    \n",
        "    if output == 'score':\n",
        "        return score\n",
        "    if output == 'model':\n",
        "        return models"
      ],
      "execution_count": 0,
      "outputs": []
    },
    {
      "cell_type": "code",
      "metadata": {
        "id": "VyL0ZzDxcmD4",
        "colab_type": "code",
        "colab": {}
      },
      "source": [
        "# 모델과 관련없는 변수 고정\n",
        "func_fixed = partial(lgb_cv, x_data=x_train, y_data=y_train, n_splits=5, output='score') \n",
        "# 베이지안 최적화 범위 설정\n",
        "lgbBO = BayesianOptimization(\n",
        "    func_fixed, \n",
        "    {\n",
        "        'num_leaves': (16, 1024),        # num_leaves,       범위(16~1024)\n",
        "        'learning_rate': (0.0001, 0.1),  # learning_rate,    범위(0.0001~0.1)\n",
        "        'n_estimators': (16, 1024),      # n_estimators,     범위(16~1024)\n",
        "        'subsample': (0, 1),             # subsample,        범위(0~1)\n",
        "        'colsample_bytree': (0, 1),      # colsample_bytree, 범위(0~1)\n",
        "        'reg_alpha': (0, 10),            # reg_alpha,        범위(0~10)\n",
        "        'reg_lambda': (0, 50),           # reg_lambda,       범위(0~50)\n",
        "    }, \n",
        "    random_state=4321                    # 시드 고정\n",
        ")\n",
        "lgbBO.maximize(init_points=5, n_iter=30) # 처음 5회 랜덤 값으로 score 계산 후 30회 최적화\n",
        "\n",
        "# 이 예제에서는 7개 하이퍼 파라미터에 대해 30회 조정을 시도했습니다.\n",
        "# 다양한 하이퍼 파라미터, 더 많은 iteration을 시도하여 최상의 모델을 얻어보세요!\n",
        "# LightGBM Classifier: https://lightgbm.readthedocs.io/en/latest/pythonapi/lightgbm.LGBMClassifier.html"
      ],
      "execution_count": 0,
      "outputs": []
    },
    {
      "cell_type": "code",
      "metadata": {
        "id": "yaKbD0upcnt2",
        "colab_type": "code",
        "colab": {}
      },
      "source": [
        "# 최댓값들만 추출\n",
        "params = lgbBO.max['params']\n",
        "models = lgb_cv(\n",
        "    params['num_leaves'], \n",
        "    params['learning_rate'], \n",
        "    params['n_estimators'], \n",
        "#    params['min_child_samples'], \n",
        "#    params['max_depth'],    \n",
        "    params['subsample'], \n",
        "    params['colsample_bytree'], \n",
        "    params['reg_alpha'], \n",
        "    params['reg_lambda'], \n",
        "    x_data=x_train, y_data=y_train, n_splits=5, output='model')"
      ],
      "execution_count": 0,
      "outputs": []
    },
    {
      "cell_type": "code",
      "metadata": {
        "id": "s_rI62YAcud5",
        "colab_type": "code",
        "colab": {}
      },
      "source": [
        "# 테스트셋에 적용\n",
        "preds = []\n",
        "for model in models:\n",
        "    pred = model.predict_proba(x_test)[:, 1]\n",
        "    preds.append(pred)\n",
        "pred = np.mean(preds, axis=0)\n",
        "sample_submission = pd.read_csv('/content/drive/My Drive/data/dacon게임분석대회/sample_submission.csv', index_col=0)\n",
        "\n",
        "submission = sample_submission\n",
        "submission = sample_submission\n",
        "submission['winner'] = submission['winner'] + pred"
      ],
      "execution_count": 0,
      "outputs": []
    },
    {
      "cell_type": "code",
      "metadata": {
        "id": "RRdLizF6cx3I",
        "colab_type": "code",
        "colab": {}
      },
      "source": [
        "# 제출파일 생성\n",
        "submission.to_csv('submission6.csv', header='game_id')\n",
        "submission.head()"
      ],
      "execution_count": 0,
      "outputs": []
    }
  ]
}